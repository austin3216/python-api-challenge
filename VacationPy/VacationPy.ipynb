{
 "cells": [
  {
   "cell_type": "markdown",
   "metadata": {},
   "source": [
    "# VacationPy\n",
    "----\n",
    "\n",
    "#### Note\n",
    "* Keep an eye on your API usage. Use https://developers.google.com/maps/reporting/gmp-reporting as reference for how to monitor your usage and billing.\n",
    "\n",
    "* Instructions have been included for each segment. You do not have to follow them exactly, but they are included to help you think through the steps."
   ]
  },
  {
   "cell_type": "code",
   "execution_count": 4,
   "metadata": {},
   "outputs": [],
   "source": [
    "# Dependencies and Setup\n",
    "import matplotlib.pyplot as plt\n",
    "import pandas as pd\n",
    "import numpy as np\n",
    "import requests\n",
    "import gmaps\n",
    "import os\n",
    "\n",
    "# Import API key\n",
    "from api_keys import g_key"
   ]
  },
  {
   "cell_type": "markdown",
   "metadata": {},
   "source": [
    "### Store Part I results into DataFrame\n",
    "* Load the csv exported in Part I to a DataFrame"
   ]
  },
  {
   "cell_type": "code",
   "execution_count": 5,
   "metadata": {},
   "outputs": [
    {
     "output_type": "execute_result",
     "data": {
      "text/plain": [
       "          City Country  High Temp (F)  Cloudiness (%)  Humidity (%)  \\\n",
       "0      Bubaque      GW          78.64               3            68   \n",
       "1    Ostrovnoy      RU          36.54             100            99   \n",
       "2      Ushuaia      AR          55.40              40            58   \n",
       "3       Castro      BR          74.52              18            48   \n",
       "4        Kapaa      US          73.40              75            73   \n",
       "..         ...     ...            ...             ...           ...   \n",
       "525    Salinas      US          55.40              90            87   \n",
       "526    Aracati      BR          88.38              52            55   \n",
       "527     Bamako      ML         105.80              40            17   \n",
       "528       Bhag      PK          89.73               0            15   \n",
       "529     Ouégoa      NC          76.08              92            85   \n",
       "\n",
       "     Wind (mph)  Latitude  Longitude  \n",
       "0         21.16   11.2833   -15.8333  \n",
       "1          1.66   68.0531    39.5131  \n",
       "2         16.11  -54.8000   -68.3000  \n",
       "3          5.19  -24.7911   -50.0119  \n",
       "4         17.27   22.0752  -159.3190  \n",
       "..          ...       ...        ...  \n",
       "525        5.75   36.6777  -121.6555  \n",
       "526       11.99   -4.5617   -37.7697  \n",
       "527        9.22   12.6500    -8.0000  \n",
       "528        3.11   29.0415    67.8239  \n",
       "529        8.30  -20.3500   164.4333  \n",
       "\n",
       "[530 rows x 8 columns]"
      ],
      "text/html": "<div>\n<style scoped>\n    .dataframe tbody tr th:only-of-type {\n        vertical-align: middle;\n    }\n\n    .dataframe tbody tr th {\n        vertical-align: top;\n    }\n\n    .dataframe thead th {\n        text-align: right;\n    }\n</style>\n<table border=\"1\" class=\"dataframe\">\n  <thead>\n    <tr style=\"text-align: right;\">\n      <th></th>\n      <th>City</th>\n      <th>Country</th>\n      <th>High Temp (F)</th>\n      <th>Cloudiness (%)</th>\n      <th>Humidity (%)</th>\n      <th>Wind (mph)</th>\n      <th>Latitude</th>\n      <th>Longitude</th>\n    </tr>\n  </thead>\n  <tbody>\n    <tr>\n      <th>0</th>\n      <td>Bubaque</td>\n      <td>GW</td>\n      <td>78.64</td>\n      <td>3</td>\n      <td>68</td>\n      <td>21.16</td>\n      <td>11.2833</td>\n      <td>-15.8333</td>\n    </tr>\n    <tr>\n      <th>1</th>\n      <td>Ostrovnoy</td>\n      <td>RU</td>\n      <td>36.54</td>\n      <td>100</td>\n      <td>99</td>\n      <td>1.66</td>\n      <td>68.0531</td>\n      <td>39.5131</td>\n    </tr>\n    <tr>\n      <th>2</th>\n      <td>Ushuaia</td>\n      <td>AR</td>\n      <td>55.40</td>\n      <td>40</td>\n      <td>58</td>\n      <td>16.11</td>\n      <td>-54.8000</td>\n      <td>-68.3000</td>\n    </tr>\n    <tr>\n      <th>3</th>\n      <td>Castro</td>\n      <td>BR</td>\n      <td>74.52</td>\n      <td>18</td>\n      <td>48</td>\n      <td>5.19</td>\n      <td>-24.7911</td>\n      <td>-50.0119</td>\n    </tr>\n    <tr>\n      <th>4</th>\n      <td>Kapaa</td>\n      <td>US</td>\n      <td>73.40</td>\n      <td>75</td>\n      <td>73</td>\n      <td>17.27</td>\n      <td>22.0752</td>\n      <td>-159.3190</td>\n    </tr>\n    <tr>\n      <th>...</th>\n      <td>...</td>\n      <td>...</td>\n      <td>...</td>\n      <td>...</td>\n      <td>...</td>\n      <td>...</td>\n      <td>...</td>\n      <td>...</td>\n    </tr>\n    <tr>\n      <th>525</th>\n      <td>Salinas</td>\n      <td>US</td>\n      <td>55.40</td>\n      <td>90</td>\n      <td>87</td>\n      <td>5.75</td>\n      <td>36.6777</td>\n      <td>-121.6555</td>\n    </tr>\n    <tr>\n      <th>526</th>\n      <td>Aracati</td>\n      <td>BR</td>\n      <td>88.38</td>\n      <td>52</td>\n      <td>55</td>\n      <td>11.99</td>\n      <td>-4.5617</td>\n      <td>-37.7697</td>\n    </tr>\n    <tr>\n      <th>527</th>\n      <td>Bamako</td>\n      <td>ML</td>\n      <td>105.80</td>\n      <td>40</td>\n      <td>17</td>\n      <td>9.22</td>\n      <td>12.6500</td>\n      <td>-8.0000</td>\n    </tr>\n    <tr>\n      <th>528</th>\n      <td>Bhag</td>\n      <td>PK</td>\n      <td>89.73</td>\n      <td>0</td>\n      <td>15</td>\n      <td>3.11</td>\n      <td>29.0415</td>\n      <td>67.8239</td>\n    </tr>\n    <tr>\n      <th>529</th>\n      <td>Ouégoa</td>\n      <td>NC</td>\n      <td>76.08</td>\n      <td>92</td>\n      <td>85</td>\n      <td>8.30</td>\n      <td>-20.3500</td>\n      <td>164.4333</td>\n    </tr>\n  </tbody>\n</table>\n<p>530 rows × 8 columns</p>\n</div>"
     },
     "metadata": {},
     "execution_count": 5
    }
   ],
   "source": [
    "cities_df = pd.read_csv('/Users/amber/Desktop/GitHub/python-api-challenge/output_data/cities.csv')\n",
    "cities_df.dropna()\n",
    "cities_df.drop(columns=['Unnamed: 0'], inplace=True)\n",
    "cities_df"
   ]
  },
  {
   "cell_type": "markdown",
   "metadata": {},
   "source": [
    "### Humidity Heatmap\n",
    "* Configure gmaps.\n",
    "* Use the Lat and Lng as locations and Humidity as the weight.\n",
    "* Add Heatmap layer to map."
   ]
  },
  {
   "cell_type": "code",
   "execution_count": 8,
   "metadata": {},
   "outputs": [
    {
     "output_type": "display_data",
     "data": {
      "text/plain": "Figure(layout=FigureLayout(height='420px'))",
      "application/vnd.jupyter.widget-view+json": {
       "version_major": 2,
       "version_minor": 0,
       "model_id": "46ff9a3a5a8a4bf2ba1d23cd227409c3"
      }
     },
     "metadata": {}
    }
   ],
   "source": [
    "# Configure gmaps\n",
    "gmaps.configure(api_key=g_key)\n",
    "\n",
    "# set lat and long as locations\n",
    "locations = cities_df[[\"Latitude\", \"Longitude\"]]\n",
    "\n",
    "# set humidity as weight\n",
    "humidity = cities_df[\"Humidity (%)\"].astype(float)\n",
    "\n",
    "# plot the humidity heatmap\n",
    "fig = gmaps.figure()\n",
    "\n",
    "# create the heat layer\n",
    "heat_layer = gmaps.heatmap_layer(locations, weights=humidity, dissipating=False, max_intensity=100, point_radius=3)\n",
    "\n",
    "# add the head layer\n",
    "fig.add_layer(heat_layer)\n",
    "\n",
    "# display the heat map\n",
    "fig"
   ]
  },
  {
   "cell_type": "markdown",
   "metadata": {},
   "source": [
    "### Create new DataFrame fitting weather criteria\n",
    "* Narrow down the cities to fit weather conditions.\n",
    "* Drop any rows will null values."
   ]
  },
  {
   "cell_type": "code",
   "execution_count": 36,
   "metadata": {},
   "outputs": [
    {
     "output_type": "execute_result",
     "data": {
      "text/plain": [
       "         City Country  High Temp (F)  Cloudiness (%)  Humidity (%)  \\\n",
       "10     Albany      US          68.00              62            19   \n",
       "13     Bethel      US          68.00               1            26   \n",
       "22       Tura      IN          78.15              65            29   \n",
       "43   Winnipeg      CA          42.01              17            24   \n",
       "46  Jamestown      US          61.00               1            33   \n",
       "\n",
       "    Wind (mph)  Latitude  Longitude  \n",
       "10        8.88   42.6001   -73.9662  \n",
       "13        8.05   41.3712   -73.4140  \n",
       "22        4.32   25.5198    90.2201  \n",
       "43        5.75   49.8844   -97.1470  \n",
       "46        3.44   42.0970   -79.2353  "
      ],
      "text/html": "<div>\n<style scoped>\n    .dataframe tbody tr th:only-of-type {\n        vertical-align: middle;\n    }\n\n    .dataframe tbody tr th {\n        vertical-align: top;\n    }\n\n    .dataframe thead th {\n        text-align: right;\n    }\n</style>\n<table border=\"1\" class=\"dataframe\">\n  <thead>\n    <tr style=\"text-align: right;\">\n      <th></th>\n      <th>City</th>\n      <th>Country</th>\n      <th>High Temp (F)</th>\n      <th>Cloudiness (%)</th>\n      <th>Humidity (%)</th>\n      <th>Wind (mph)</th>\n      <th>Latitude</th>\n      <th>Longitude</th>\n    </tr>\n  </thead>\n  <tbody>\n    <tr>\n      <th>10</th>\n      <td>Albany</td>\n      <td>US</td>\n      <td>68.00</td>\n      <td>62</td>\n      <td>19</td>\n      <td>8.88</td>\n      <td>42.6001</td>\n      <td>-73.9662</td>\n    </tr>\n    <tr>\n      <th>13</th>\n      <td>Bethel</td>\n      <td>US</td>\n      <td>68.00</td>\n      <td>1</td>\n      <td>26</td>\n      <td>8.05</td>\n      <td>41.3712</td>\n      <td>-73.4140</td>\n    </tr>\n    <tr>\n      <th>22</th>\n      <td>Tura</td>\n      <td>IN</td>\n      <td>78.15</td>\n      <td>65</td>\n      <td>29</td>\n      <td>4.32</td>\n      <td>25.5198</td>\n      <td>90.2201</td>\n    </tr>\n    <tr>\n      <th>43</th>\n      <td>Winnipeg</td>\n      <td>CA</td>\n      <td>42.01</td>\n      <td>17</td>\n      <td>24</td>\n      <td>5.75</td>\n      <td>49.8844</td>\n      <td>-97.1470</td>\n    </tr>\n    <tr>\n      <th>46</th>\n      <td>Jamestown</td>\n      <td>US</td>\n      <td>61.00</td>\n      <td>1</td>\n      <td>33</td>\n      <td>3.44</td>\n      <td>42.0970</td>\n      <td>-79.2353</td>\n    </tr>\n  </tbody>\n</table>\n</div>"
     },
     "metadata": {},
     "execution_count": 36
    }
   ],
   "source": [
    "# narrow down cities to fit weather conditions\n",
    "my_vacays = cities_df.loc[(cities_df['High Temp (F)'] <= 85) & (cities_df['Humidity (%)'] <= 40) & (cities_df['Wind (mph)'] <= 10)]\n",
    "my_vacays.head()"
   ]
  },
  {
   "cell_type": "markdown",
   "metadata": {},
   "source": [
    "### Hotel Map\n",
    "* Store into variable named `hotel_df`.\n",
    "* Add a \"Hotel Name\" column to the DataFrame.\n",
    "* Set parameters to search for hotels with 5000 meters.\n",
    "* Hit the Google Places API for each city's coordinates.\n",
    "* Store the first Hotel result into the DataFrame.\n",
    "* Plot markers on top of the heatmap."
   ]
  },
  {
   "cell_type": "code",
   "execution_count": 40,
   "metadata": {},
   "outputs": [
    {
     "output_type": "stream",
     "name": "stderr",
     "text": [
      "<ipython-input-40-4e5025f5099e>:3: SettingWithCopyWarning: \n",
      "A value is trying to be set on a copy of a slice from a DataFrame.\n",
      "Try using .loc[row_indexer,col_indexer] = value instead\n",
      "\n",
      "See the caveats in the documentation: https://pandas.pydata.org/pandas-docs/stable/user_guide/indexing.html#returning-a-view-versus-a-copy\n",
      "  hotel_df['Hotel Name'] = ''\n",
      "<ipython-input-40-4e5025f5099e>:36: SettingWithCopyWarning: \n",
      "A value is trying to be set on a copy of a slice from a DataFrame.\n",
      "Try using .loc[row_indexer,col_indexer] = value instead\n",
      "\n",
      "See the caveats in the documentation: https://pandas.pydata.org/pandas-docs/stable/user_guide/indexing.html#returning-a-view-versus-a-copy\n",
      "  hotel_df['Hotel Name'] = hotels\n"
     ]
    },
    {
     "output_type": "execute_result",
     "data": {
      "text/plain": [
       "                             City Country  High Temp (F)  Cloudiness (%)  \\\n",
       "10                         Albany      US          68.00              62   \n",
       "13                         Bethel      US          68.00               1   \n",
       "22                           Tura      IN          78.15              65   \n",
       "43                       Winnipeg      CA          42.01              17   \n",
       "46                      Jamestown      US          61.00               1   \n",
       "78              Nizhniy Tsasuchey      RU          42.78              99   \n",
       "119                          Wana      PK          66.79               0   \n",
       "123                       Birjand      IR          73.40              40   \n",
       "151                   Zhengjiatun      CN          43.07               0   \n",
       "154                         Sitka      US          53.60               1   \n",
       "181                      Atikokan      CA          36.72             100   \n",
       "185                          Zhob      PK          71.55               1   \n",
       "214                      Rāwatsār      IN          81.39               0   \n",
       "216                      Sterling      US          64.99              90   \n",
       "244                    Kiryat Gat      IL          69.01               0   \n",
       "264                 Casas Grandes      MX          66.99               0   \n",
       "277                      Karratha      AU          79.39               0   \n",
       "280                       Oruzgan      AF          67.93              15   \n",
       "286                          Asău      RO          57.20               0   \n",
       "287                     Gazalkent      UZ          66.20               0   \n",
       "306               Yangi Marg`ilon      UZ          66.20             100   \n",
       "310                       Malbork      PL          46.00              64   \n",
       "319                Cabo San Lucas      MX          79.00               1   \n",
       "342                        Tailai      CN          46.09               0   \n",
       "360                    Zhangaözen      KZ          67.46              35   \n",
       "361                      Sanandij      IR          65.50               0   \n",
       "375                         Khāsh      IR          75.11              12   \n",
       "379                       Zhangye      CN          52.61             100   \n",
       "441                        Nushki      PK          81.52               0   \n",
       "454                        Kerman      IR          69.80              75   \n",
       "458                      Yairipok      IN          64.69               6   \n",
       "480                    Pathalgaon      IN          83.25              98   \n",
       "491                     Železniki      SI          64.40              20   \n",
       "500                     Lewistown      US          63.00              87   \n",
       "503                   Maple Creek      CA          39.20              92   \n",
       "505           Santa María del Oro      MX          69.10               2   \n",
       "511  Arrondissement de Bar-le-Duc      FR          69.80               0   \n",
       "\n",
       "     Humidity (%)  Wind (mph)  Latitude  Longitude  \\\n",
       "10             19        8.88   42.6001   -73.9662   \n",
       "13             26        8.05   41.3712   -73.4140   \n",
       "22             29        4.32   25.5198    90.2201   \n",
       "43             24        5.75   49.8844   -97.1470   \n",
       "46             33        3.44   42.0970   -79.2353   \n",
       "78             16        5.32   50.5167   115.1333   \n",
       "119            39        1.28   32.2989    69.5725   \n",
       "123            11        4.61   32.8663    59.2211   \n",
       "151            26        6.11   43.5064   123.5064   \n",
       "154            28        3.44   57.0531  -135.3300   \n",
       "181            38        8.28   48.7555   -91.6216   \n",
       "185            30        0.89   31.3411    69.4481   \n",
       "214            15        8.70   29.2833    74.3833   \n",
       "216            29        6.91   39.0062   -77.4286   \n",
       "244             9        1.01   31.6100    34.7642   \n",
       "264            17        1.01   30.3667  -107.9500   \n",
       "277            40        5.61  -20.7377   116.8463   \n",
       "280            14        2.19   32.8333    66.0000   \n",
       "286            38        2.30   46.4333    26.4000   \n",
       "287            37        6.91   41.5581    69.7708   \n",
       "306            32        4.61   40.4272    71.7189   \n",
       "310            37        7.49   54.0359    19.0266   \n",
       "319            38        5.75   22.8909  -109.9124   \n",
       "342            24        8.79   46.3833   123.4000   \n",
       "360            23        4.16   43.3000    52.8000   \n",
       "361            17        4.09   35.3144    46.9923   \n",
       "375             7        3.69   28.2211    61.2158   \n",
       "379            28        2.59   38.9342   100.4517   \n",
       "441             8        2.91   29.5542    66.0215   \n",
       "454            32        6.91   30.2832    57.0788   \n",
       "458            34        0.38   24.6667    94.0667   \n",
       "480            12        2.66   22.5667    83.4667   \n",
       "491            25        4.61   46.2333    14.1667   \n",
       "500            38        4.00   40.5992   -77.5714   \n",
       "503            30        4.61   49.9168  -109.4848   \n",
       "505             8        5.68   25.9333  -105.3667   \n",
       "511            26        6.91   48.7500     5.1667   \n",
       "\n",
       "                         Hotel Name  \n",
       "10                 Hotel not found.  \n",
       "13      Best Western Danbury/Bethel  \n",
       "22                Hotel Polo Orchid  \n",
       "43           Clarion Hotel & Suites  \n",
       "46          Chautauqua Harbor Hotel  \n",
       "78                 Hotel not found.  \n",
       "119                Hotel not found.  \n",
       "123                       هتل پرويز  \n",
       "151                     Keyun Hotel  \n",
       "154     Totem Square Hotel & Marina  \n",
       "181                 White Otter Inn  \n",
       "185        Faiz Hotel and Resturant  \n",
       "214     Hotel Yuvraj AND RESTAURANT  \n",
       "216            Hyatt Regency Dulles  \n",
       "244                      Desert Gat  \n",
       "264             Pueblo del Soul B&B  \n",
       "277    Karratha International Hotel  \n",
       "280                Hotel not found.  \n",
       "286                Pensiunea Sophia  \n",
       "287                Hotel not found.  \n",
       "306                     Diyor hotel  \n",
       "310           Hotel Centrum Malbork  \n",
       "319       Bahia Hotel & Beach House  \n",
       "342  Xiangshan Hongye Express Hotel  \n",
       "360                    Hotel BasTau  \n",
       "361            Sanandaj Shadi Hotel  \n",
       "375            خوابگاه دانشجویی خاش  \n",
       "379      Zhangye Lvzhou Holiday Inn  \n",
       "441                  Nabi Bux Hotel  \n",
       "454                Hotel Jahangardy  \n",
       "458                Hotel not found.  \n",
       "480                      Hotel Ansh  \n",
       "491                Hotel not found.  \n",
       "500            Quality Inn & Suites  \n",
       "503              Cobble Creek Lodge  \n",
       "505           Hotel Palacio Del Sol  \n",
       "511       Hôtel-Restaurant Bertrand  "
      ],
      "text/html": "<div>\n<style scoped>\n    .dataframe tbody tr th:only-of-type {\n        vertical-align: middle;\n    }\n\n    .dataframe tbody tr th {\n        vertical-align: top;\n    }\n\n    .dataframe thead th {\n        text-align: right;\n    }\n</style>\n<table border=\"1\" class=\"dataframe\">\n  <thead>\n    <tr style=\"text-align: right;\">\n      <th></th>\n      <th>City</th>\n      <th>Country</th>\n      <th>High Temp (F)</th>\n      <th>Cloudiness (%)</th>\n      <th>Humidity (%)</th>\n      <th>Wind (mph)</th>\n      <th>Latitude</th>\n      <th>Longitude</th>\n      <th>Hotel Name</th>\n    </tr>\n  </thead>\n  <tbody>\n    <tr>\n      <th>10</th>\n      <td>Albany</td>\n      <td>US</td>\n      <td>68.00</td>\n      <td>62</td>\n      <td>19</td>\n      <td>8.88</td>\n      <td>42.6001</td>\n      <td>-73.9662</td>\n      <td>Hotel not found.</td>\n    </tr>\n    <tr>\n      <th>13</th>\n      <td>Bethel</td>\n      <td>US</td>\n      <td>68.00</td>\n      <td>1</td>\n      <td>26</td>\n      <td>8.05</td>\n      <td>41.3712</td>\n      <td>-73.4140</td>\n      <td>Best Western Danbury/Bethel</td>\n    </tr>\n    <tr>\n      <th>22</th>\n      <td>Tura</td>\n      <td>IN</td>\n      <td>78.15</td>\n      <td>65</td>\n      <td>29</td>\n      <td>4.32</td>\n      <td>25.5198</td>\n      <td>90.2201</td>\n      <td>Hotel Polo Orchid</td>\n    </tr>\n    <tr>\n      <th>43</th>\n      <td>Winnipeg</td>\n      <td>CA</td>\n      <td>42.01</td>\n      <td>17</td>\n      <td>24</td>\n      <td>5.75</td>\n      <td>49.8844</td>\n      <td>-97.1470</td>\n      <td>Clarion Hotel &amp; Suites</td>\n    </tr>\n    <tr>\n      <th>46</th>\n      <td>Jamestown</td>\n      <td>US</td>\n      <td>61.00</td>\n      <td>1</td>\n      <td>33</td>\n      <td>3.44</td>\n      <td>42.0970</td>\n      <td>-79.2353</td>\n      <td>Chautauqua Harbor Hotel</td>\n    </tr>\n    <tr>\n      <th>78</th>\n      <td>Nizhniy Tsasuchey</td>\n      <td>RU</td>\n      <td>42.78</td>\n      <td>99</td>\n      <td>16</td>\n      <td>5.32</td>\n      <td>50.5167</td>\n      <td>115.1333</td>\n      <td>Hotel not found.</td>\n    </tr>\n    <tr>\n      <th>119</th>\n      <td>Wana</td>\n      <td>PK</td>\n      <td>66.79</td>\n      <td>0</td>\n      <td>39</td>\n      <td>1.28</td>\n      <td>32.2989</td>\n      <td>69.5725</td>\n      <td>Hotel not found.</td>\n    </tr>\n    <tr>\n      <th>123</th>\n      <td>Birjand</td>\n      <td>IR</td>\n      <td>73.40</td>\n      <td>40</td>\n      <td>11</td>\n      <td>4.61</td>\n      <td>32.8663</td>\n      <td>59.2211</td>\n      <td>هتل پرويز</td>\n    </tr>\n    <tr>\n      <th>151</th>\n      <td>Zhengjiatun</td>\n      <td>CN</td>\n      <td>43.07</td>\n      <td>0</td>\n      <td>26</td>\n      <td>6.11</td>\n      <td>43.5064</td>\n      <td>123.5064</td>\n      <td>Keyun Hotel</td>\n    </tr>\n    <tr>\n      <th>154</th>\n      <td>Sitka</td>\n      <td>US</td>\n      <td>53.60</td>\n      <td>1</td>\n      <td>28</td>\n      <td>3.44</td>\n      <td>57.0531</td>\n      <td>-135.3300</td>\n      <td>Totem Square Hotel &amp; Marina</td>\n    </tr>\n    <tr>\n      <th>181</th>\n      <td>Atikokan</td>\n      <td>CA</td>\n      <td>36.72</td>\n      <td>100</td>\n      <td>38</td>\n      <td>8.28</td>\n      <td>48.7555</td>\n      <td>-91.6216</td>\n      <td>White Otter Inn</td>\n    </tr>\n    <tr>\n      <th>185</th>\n      <td>Zhob</td>\n      <td>PK</td>\n      <td>71.55</td>\n      <td>1</td>\n      <td>30</td>\n      <td>0.89</td>\n      <td>31.3411</td>\n      <td>69.4481</td>\n      <td>Faiz Hotel and Resturant</td>\n    </tr>\n    <tr>\n      <th>214</th>\n      <td>Rāwatsār</td>\n      <td>IN</td>\n      <td>81.39</td>\n      <td>0</td>\n      <td>15</td>\n      <td>8.70</td>\n      <td>29.2833</td>\n      <td>74.3833</td>\n      <td>Hotel Yuvraj AND RESTAURANT</td>\n    </tr>\n    <tr>\n      <th>216</th>\n      <td>Sterling</td>\n      <td>US</td>\n      <td>64.99</td>\n      <td>90</td>\n      <td>29</td>\n      <td>6.91</td>\n      <td>39.0062</td>\n      <td>-77.4286</td>\n      <td>Hyatt Regency Dulles</td>\n    </tr>\n    <tr>\n      <th>244</th>\n      <td>Kiryat Gat</td>\n      <td>IL</td>\n      <td>69.01</td>\n      <td>0</td>\n      <td>9</td>\n      <td>1.01</td>\n      <td>31.6100</td>\n      <td>34.7642</td>\n      <td>Desert Gat</td>\n    </tr>\n    <tr>\n      <th>264</th>\n      <td>Casas Grandes</td>\n      <td>MX</td>\n      <td>66.99</td>\n      <td>0</td>\n      <td>17</td>\n      <td>1.01</td>\n      <td>30.3667</td>\n      <td>-107.9500</td>\n      <td>Pueblo del Soul B&amp;B</td>\n    </tr>\n    <tr>\n      <th>277</th>\n      <td>Karratha</td>\n      <td>AU</td>\n      <td>79.39</td>\n      <td>0</td>\n      <td>40</td>\n      <td>5.61</td>\n      <td>-20.7377</td>\n      <td>116.8463</td>\n      <td>Karratha International Hotel</td>\n    </tr>\n    <tr>\n      <th>280</th>\n      <td>Oruzgan</td>\n      <td>AF</td>\n      <td>67.93</td>\n      <td>15</td>\n      <td>14</td>\n      <td>2.19</td>\n      <td>32.8333</td>\n      <td>66.0000</td>\n      <td>Hotel not found.</td>\n    </tr>\n    <tr>\n      <th>286</th>\n      <td>Asău</td>\n      <td>RO</td>\n      <td>57.20</td>\n      <td>0</td>\n      <td>38</td>\n      <td>2.30</td>\n      <td>46.4333</td>\n      <td>26.4000</td>\n      <td>Pensiunea Sophia</td>\n    </tr>\n    <tr>\n      <th>287</th>\n      <td>Gazalkent</td>\n      <td>UZ</td>\n      <td>66.20</td>\n      <td>0</td>\n      <td>37</td>\n      <td>6.91</td>\n      <td>41.5581</td>\n      <td>69.7708</td>\n      <td>Hotel not found.</td>\n    </tr>\n    <tr>\n      <th>306</th>\n      <td>Yangi Marg`ilon</td>\n      <td>UZ</td>\n      <td>66.20</td>\n      <td>100</td>\n      <td>32</td>\n      <td>4.61</td>\n      <td>40.4272</td>\n      <td>71.7189</td>\n      <td>Diyor hotel</td>\n    </tr>\n    <tr>\n      <th>310</th>\n      <td>Malbork</td>\n      <td>PL</td>\n      <td>46.00</td>\n      <td>64</td>\n      <td>37</td>\n      <td>7.49</td>\n      <td>54.0359</td>\n      <td>19.0266</td>\n      <td>Hotel Centrum Malbork</td>\n    </tr>\n    <tr>\n      <th>319</th>\n      <td>Cabo San Lucas</td>\n      <td>MX</td>\n      <td>79.00</td>\n      <td>1</td>\n      <td>38</td>\n      <td>5.75</td>\n      <td>22.8909</td>\n      <td>-109.9124</td>\n      <td>Bahia Hotel &amp; Beach House</td>\n    </tr>\n    <tr>\n      <th>342</th>\n      <td>Tailai</td>\n      <td>CN</td>\n      <td>46.09</td>\n      <td>0</td>\n      <td>24</td>\n      <td>8.79</td>\n      <td>46.3833</td>\n      <td>123.4000</td>\n      <td>Xiangshan Hongye Express Hotel</td>\n    </tr>\n    <tr>\n      <th>360</th>\n      <td>Zhangaözen</td>\n      <td>KZ</td>\n      <td>67.46</td>\n      <td>35</td>\n      <td>23</td>\n      <td>4.16</td>\n      <td>43.3000</td>\n      <td>52.8000</td>\n      <td>Hotel BasTau</td>\n    </tr>\n    <tr>\n      <th>361</th>\n      <td>Sanandij</td>\n      <td>IR</td>\n      <td>65.50</td>\n      <td>0</td>\n      <td>17</td>\n      <td>4.09</td>\n      <td>35.3144</td>\n      <td>46.9923</td>\n      <td>Sanandaj Shadi Hotel</td>\n    </tr>\n    <tr>\n      <th>375</th>\n      <td>Khāsh</td>\n      <td>IR</td>\n      <td>75.11</td>\n      <td>12</td>\n      <td>7</td>\n      <td>3.69</td>\n      <td>28.2211</td>\n      <td>61.2158</td>\n      <td>خوابگاه دانشجویی خاش</td>\n    </tr>\n    <tr>\n      <th>379</th>\n      <td>Zhangye</td>\n      <td>CN</td>\n      <td>52.61</td>\n      <td>100</td>\n      <td>28</td>\n      <td>2.59</td>\n      <td>38.9342</td>\n      <td>100.4517</td>\n      <td>Zhangye Lvzhou Holiday Inn</td>\n    </tr>\n    <tr>\n      <th>441</th>\n      <td>Nushki</td>\n      <td>PK</td>\n      <td>81.52</td>\n      <td>0</td>\n      <td>8</td>\n      <td>2.91</td>\n      <td>29.5542</td>\n      <td>66.0215</td>\n      <td>Nabi Bux Hotel</td>\n    </tr>\n    <tr>\n      <th>454</th>\n      <td>Kerman</td>\n      <td>IR</td>\n      <td>69.80</td>\n      <td>75</td>\n      <td>32</td>\n      <td>6.91</td>\n      <td>30.2832</td>\n      <td>57.0788</td>\n      <td>Hotel Jahangardy</td>\n    </tr>\n    <tr>\n      <th>458</th>\n      <td>Yairipok</td>\n      <td>IN</td>\n      <td>64.69</td>\n      <td>6</td>\n      <td>34</td>\n      <td>0.38</td>\n      <td>24.6667</td>\n      <td>94.0667</td>\n      <td>Hotel not found.</td>\n    </tr>\n    <tr>\n      <th>480</th>\n      <td>Pathalgaon</td>\n      <td>IN</td>\n      <td>83.25</td>\n      <td>98</td>\n      <td>12</td>\n      <td>2.66</td>\n      <td>22.5667</td>\n      <td>83.4667</td>\n      <td>Hotel Ansh</td>\n    </tr>\n    <tr>\n      <th>491</th>\n      <td>Železniki</td>\n      <td>SI</td>\n      <td>64.40</td>\n      <td>20</td>\n      <td>25</td>\n      <td>4.61</td>\n      <td>46.2333</td>\n      <td>14.1667</td>\n      <td>Hotel not found.</td>\n    </tr>\n    <tr>\n      <th>500</th>\n      <td>Lewistown</td>\n      <td>US</td>\n      <td>63.00</td>\n      <td>87</td>\n      <td>38</td>\n      <td>4.00</td>\n      <td>40.5992</td>\n      <td>-77.5714</td>\n      <td>Quality Inn &amp; Suites</td>\n    </tr>\n    <tr>\n      <th>503</th>\n      <td>Maple Creek</td>\n      <td>CA</td>\n      <td>39.20</td>\n      <td>92</td>\n      <td>30</td>\n      <td>4.61</td>\n      <td>49.9168</td>\n      <td>-109.4848</td>\n      <td>Cobble Creek Lodge</td>\n    </tr>\n    <tr>\n      <th>505</th>\n      <td>Santa María del Oro</td>\n      <td>MX</td>\n      <td>69.10</td>\n      <td>2</td>\n      <td>8</td>\n      <td>5.68</td>\n      <td>25.9333</td>\n      <td>-105.3667</td>\n      <td>Hotel Palacio Del Sol</td>\n    </tr>\n    <tr>\n      <th>511</th>\n      <td>Arrondissement de Bar-le-Duc</td>\n      <td>FR</td>\n      <td>69.80</td>\n      <td>0</td>\n      <td>26</td>\n      <td>6.91</td>\n      <td>48.7500</td>\n      <td>5.1667</td>\n      <td>Hôtel-Restaurant Bertrand</td>\n    </tr>\n  </tbody>\n</table>\n</div>"
     },
     "metadata": {},
     "execution_count": 40
    }
   ],
   "source": [
    "# create hotel df and list for Hotel Names\n",
    "hotel_df = my_vacays\n",
    "hotel_df['Hotel Name'] = ''\n",
    "hotels = []\n",
    "\n",
    "params = {\n",
    "    'radius': 5000,\n",
    "    'types': 'lodging',\n",
    "    'keyword': 'Hotel',\n",
    "    'key': g_key\n",
    "}\n",
    "\n",
    "# loop through filtered dataframe for nearest hotels\n",
    "for index, row in hotel_df.iterrows():\n",
    "    \n",
    "    lat = row['Latitude']\n",
    "    lng = row['Longitude']\n",
    "\n",
    "    params['location'] = f'{lat},{lng}'\n",
    "\n",
    "    # base url\n",
    "    base_url = \"https://maps.googleapis.com/maps/api/place/nearbysearch/json\"\n",
    "\n",
    "    hotel_name = requests.get(base_url, params=params)\n",
    "\n",
    "    hotel_name = hotel_name.json()\n",
    "\n",
    "    # --> NOTE: opted to go with append in order to show 'Hotel not found' result in DataFrame.\n",
    "    try:\n",
    "        # hotel_df.loc[index, 'Hotel Name'] = hotel_name['results'][0]['name']\n",
    "        hotels.append(hotel_name['results'][0]['name'])\n",
    "    except (KeyError, IndexError):\n",
    "        # print('Missing field/result...skipping.')\n",
    "        hotels.append('Hotel not found.')\n",
    "\n",
    "hotel_df['Hotel Name'] = hotels\n",
    "hotel_df"
   ]
  },
  {
   "cell_type": "code",
   "execution_count": 42,
   "metadata": {},
   "outputs": [],
   "source": [
    "# NOTE: Do not change any of the code in this cell\n",
    "\n",
    "# Using the template add the hotel marks to the heatmap\n",
    "info_box_template = \"\"\"\n",
    "<dl>\n",
    "<dt>Name</dt><dd>{Hotel Name}</dd>\n",
    "<dt>City</dt><dd>{City}</dd>\n",
    "<dt>Country</dt><dd>{Country}</dd>\n",
    "</dl>\n",
    "\"\"\"\n",
    "# Store the DataFrame Row\n",
    "# NOTE: be sure to update with your DataFrame name\n",
    "hotel_info = [info_box_template.format(**row) for index, row in hotel_df.iterrows()]\n",
    "locations = hotel_df[[\"Latitude\", \"Longitude\"]]"
   ]
  },
  {
   "cell_type": "code",
   "execution_count": null,
   "metadata": {},
   "outputs": [],
   "source": [
    "# Add marker layer ontop of heat map\n",
    "\n",
    "\n",
    "# Display figure\n"
   ]
  },
  {
   "cell_type": "code",
   "execution_count": null,
   "metadata": {},
   "outputs": [],
   "source": []
  }
 ],
 "metadata": {
  "kernelspec": {
   "name": "python385jvsc74a57bd08db30581eada7fc949e663d6eb5b9fbb6fa0d3e0e859dcefca3786a9362448d9",
   "display_name": "Python 3.8.5 64-bit ('PythonData': conda)"
  },
  "language_info": {
   "codemirror_mode": {
    "name": "ipython",
    "version": 3
   },
   "file_extension": ".py",
   "mimetype": "text/x-python",
   "name": "python",
   "nbconvert_exporter": "python",
   "pygments_lexer": "ipython3",
   "version": "3.8.5"
  },
  "latex_envs": {
   "LaTeX_envs_menu_present": true,
   "autoclose": false,
   "autocomplete": true,
   "bibliofile": "biblio.bib",
   "cite_by": "apalike",
   "current_citInitial": 1,
   "eqLabelWithNumbers": true,
   "eqNumInitial": 1,
   "hotkeys": {
    "equation": "Ctrl-E",
    "itemize": "Ctrl-I"
   },
   "labels_anchors": false,
   "latex_user_defs": false,
   "report_style_numbering": false,
   "user_envs_cfg": false
  }
 },
 "nbformat": 4,
 "nbformat_minor": 4
}