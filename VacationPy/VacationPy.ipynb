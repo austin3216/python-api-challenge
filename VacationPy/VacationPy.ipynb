{
 "cells": [
  {
   "cell_type": "markdown",
   "metadata": {},
   "source": [
    "# VacationPy\n",
    "----\n",
    "\n",
    "#### Note\n",
    "* Keep an eye on your API usage. Use https://developers.google.com/maps/reporting/gmp-reporting as reference for how to monitor your usage and billing.\n",
    "\n",
    "* Instructions have been included for each segment. You do not have to follow them exactly, but they are included to help you think through the steps."
   ]
  },
  {
   "cell_type": "code",
   "execution_count": 4,
   "metadata": {},
   "outputs": [],
   "source": [
    "# Dependencies and Setup\n",
    "import matplotlib.pyplot as plt\n",
    "import pandas as pd\n",
    "import numpy as np\n",
    "import requests\n",
    "import gmaps\n",
    "import os\n",
    "\n",
    "# Import API key\n",
    "from api_keys import g_key"
   ]
  },
  {
   "cell_type": "markdown",
   "metadata": {},
   "source": [
    "### Store Part I results into DataFrame\n",
    "* Load the csv exported in Part I to a DataFrame"
   ]
  },
  {
   "cell_type": "code",
   "execution_count": 5,
   "metadata": {},
   "outputs": [
    {
     "output_type": "execute_result",
     "data": {
      "text/plain": [
       "          City Country  High Temp (F)  Cloudiness (%)  Humidity (%)  \\\n",
       "0      Bubaque      GW          78.64               3            68   \n",
       "1    Ostrovnoy      RU          36.54             100            99   \n",
       "2      Ushuaia      AR          55.40              40            58   \n",
       "3       Castro      BR          74.52              18            48   \n",
       "4        Kapaa      US          73.40              75            73   \n",
       "..         ...     ...            ...             ...           ...   \n",
       "525    Salinas      US          55.40              90            87   \n",
       "526    Aracati      BR          88.38              52            55   \n",
       "527     Bamako      ML         105.80              40            17   \n",
       "528       Bhag      PK          89.73               0            15   \n",
       "529     Ouégoa      NC          76.08              92            85   \n",
       "\n",
       "     Wind (mph)  Latitude  Longitude  \n",
       "0         21.16   11.2833   -15.8333  \n",
       "1          1.66   68.0531    39.5131  \n",
       "2         16.11  -54.8000   -68.3000  \n",
       "3          5.19  -24.7911   -50.0119  \n",
       "4         17.27   22.0752  -159.3190  \n",
       "..          ...       ...        ...  \n",
       "525        5.75   36.6777  -121.6555  \n",
       "526       11.99   -4.5617   -37.7697  \n",
       "527        9.22   12.6500    -8.0000  \n",
       "528        3.11   29.0415    67.8239  \n",
       "529        8.30  -20.3500   164.4333  \n",
       "\n",
       "[530 rows x 8 columns]"
      ],
      "text/html": "<div>\n<style scoped>\n    .dataframe tbody tr th:only-of-type {\n        vertical-align: middle;\n    }\n\n    .dataframe tbody tr th {\n        vertical-align: top;\n    }\n\n    .dataframe thead th {\n        text-align: right;\n    }\n</style>\n<table border=\"1\" class=\"dataframe\">\n  <thead>\n    <tr style=\"text-align: right;\">\n      <th></th>\n      <th>City</th>\n      <th>Country</th>\n      <th>High Temp (F)</th>\n      <th>Cloudiness (%)</th>\n      <th>Humidity (%)</th>\n      <th>Wind (mph)</th>\n      <th>Latitude</th>\n      <th>Longitude</th>\n    </tr>\n  </thead>\n  <tbody>\n    <tr>\n      <th>0</th>\n      <td>Bubaque</td>\n      <td>GW</td>\n      <td>78.64</td>\n      <td>3</td>\n      <td>68</td>\n      <td>21.16</td>\n      <td>11.2833</td>\n      <td>-15.8333</td>\n    </tr>\n    <tr>\n      <th>1</th>\n      <td>Ostrovnoy</td>\n      <td>RU</td>\n      <td>36.54</td>\n      <td>100</td>\n      <td>99</td>\n      <td>1.66</td>\n      <td>68.0531</td>\n      <td>39.5131</td>\n    </tr>\n    <tr>\n      <th>2</th>\n      <td>Ushuaia</td>\n      <td>AR</td>\n      <td>55.40</td>\n      <td>40</td>\n      <td>58</td>\n      <td>16.11</td>\n      <td>-54.8000</td>\n      <td>-68.3000</td>\n    </tr>\n    <tr>\n      <th>3</th>\n      <td>Castro</td>\n      <td>BR</td>\n      <td>74.52</td>\n      <td>18</td>\n      <td>48</td>\n      <td>5.19</td>\n      <td>-24.7911</td>\n      <td>-50.0119</td>\n    </tr>\n    <tr>\n      <th>4</th>\n      <td>Kapaa</td>\n      <td>US</td>\n      <td>73.40</td>\n      <td>75</td>\n      <td>73</td>\n      <td>17.27</td>\n      <td>22.0752</td>\n      <td>-159.3190</td>\n    </tr>\n    <tr>\n      <th>...</th>\n      <td>...</td>\n      <td>...</td>\n      <td>...</td>\n      <td>...</td>\n      <td>...</td>\n      <td>...</td>\n      <td>...</td>\n      <td>...</td>\n    </tr>\n    <tr>\n      <th>525</th>\n      <td>Salinas</td>\n      <td>US</td>\n      <td>55.40</td>\n      <td>90</td>\n      <td>87</td>\n      <td>5.75</td>\n      <td>36.6777</td>\n      <td>-121.6555</td>\n    </tr>\n    <tr>\n      <th>526</th>\n      <td>Aracati</td>\n      <td>BR</td>\n      <td>88.38</td>\n      <td>52</td>\n      <td>55</td>\n      <td>11.99</td>\n      <td>-4.5617</td>\n      <td>-37.7697</td>\n    </tr>\n    <tr>\n      <th>527</th>\n      <td>Bamako</td>\n      <td>ML</td>\n      <td>105.80</td>\n      <td>40</td>\n      <td>17</td>\n      <td>9.22</td>\n      <td>12.6500</td>\n      <td>-8.0000</td>\n    </tr>\n    <tr>\n      <th>528</th>\n      <td>Bhag</td>\n      <td>PK</td>\n      <td>89.73</td>\n      <td>0</td>\n      <td>15</td>\n      <td>3.11</td>\n      <td>29.0415</td>\n      <td>67.8239</td>\n    </tr>\n    <tr>\n      <th>529</th>\n      <td>Ouégoa</td>\n      <td>NC</td>\n      <td>76.08</td>\n      <td>92</td>\n      <td>85</td>\n      <td>8.30</td>\n      <td>-20.3500</td>\n      <td>164.4333</td>\n    </tr>\n  </tbody>\n</table>\n<p>530 rows × 8 columns</p>\n</div>"
     },
     "metadata": {},
     "execution_count": 5
    }
   ],
   "source": [
    "cities_df = pd.read_csv('/Users/amber/Desktop/GitHub/python-api-challenge/output_data/cities.csv')\n",
    "cities_df.dropna()\n",
    "cities_df.drop(columns=['Unnamed: 0'], inplace=True)\n",
    "cities_df"
   ]
  },
  {
   "cell_type": "markdown",
   "metadata": {},
   "source": [
    "### Humidity Heatmap\n",
    "* Configure gmaps.\n",
    "* Use the Lat and Lng as locations and Humidity as the weight.\n",
    "* Add Heatmap layer to map."
   ]
  },
  {
   "cell_type": "code",
   "execution_count": 8,
   "metadata": {},
   "outputs": [
    {
     "output_type": "display_data",
     "data": {
      "text/plain": "Figure(layout=FigureLayout(height='420px'))",
      "application/vnd.jupyter.widget-view+json": {
       "version_major": 2,
       "version_minor": 0,
       "model_id": "46ff9a3a5a8a4bf2ba1d23cd227409c3"
      }
     },
     "metadata": {}
    }
   ],
   "source": [
    "# Configure gmaps\n",
    "gmaps.configure(api_key=g_key)\n",
    "\n",
    "# set lat and long as locations\n",
    "locations = cities_df[[\"Latitude\", \"Longitude\"]]\n",
    "\n",
    "# set humidity as weight\n",
    "humidity = cities_df[\"Humidity (%)\"].astype(float)\n",
    "\n",
    "# plot the humidity heatmap\n",
    "fig = gmaps.figure()\n",
    "\n",
    "# create the heat layer\n",
    "heat_layer = gmaps.heatmap_layer(locations, weights=humidity, dissipating=False, max_intensity=100, point_radius=3)\n",
    "\n",
    "# add the head layer\n",
    "fig.add_layer(heat_layer)\n",
    "\n",
    "# display the heat map\n",
    "fig"
   ]
  },
  {
   "cell_type": "markdown",
   "metadata": {},
   "source": [
    "### Create new DataFrame fitting weather criteria\n",
    "* Narrow down the cities to fit weather conditions.\n",
    "* Drop any rows will null values."
   ]
  },
  {
   "cell_type": "code",
   "execution_count": 36,
   "metadata": {},
   "outputs": [
    {
     "output_type": "execute_result",
     "data": {
      "text/plain": [
       "         City Country  High Temp (F)  Cloudiness (%)  Humidity (%)  \\\n",
       "10     Albany      US          68.00              62            19   \n",
       "13     Bethel      US          68.00               1            26   \n",
       "22       Tura      IN          78.15              65            29   \n",
       "43   Winnipeg      CA          42.01              17            24   \n",
       "46  Jamestown      US          61.00               1            33   \n",
       "\n",
       "    Wind (mph)  Latitude  Longitude  \n",
       "10        8.88   42.6001   -73.9662  \n",
       "13        8.05   41.3712   -73.4140  \n",
       "22        4.32   25.5198    90.2201  \n",
       "43        5.75   49.8844   -97.1470  \n",
       "46        3.44   42.0970   -79.2353  "
      ],
      "text/html": "<div>\n<style scoped>\n    .dataframe tbody tr th:only-of-type {\n        vertical-align: middle;\n    }\n\n    .dataframe tbody tr th {\n        vertical-align: top;\n    }\n\n    .dataframe thead th {\n        text-align: right;\n    }\n</style>\n<table border=\"1\" class=\"dataframe\">\n  <thead>\n    <tr style=\"text-align: right;\">\n      <th></th>\n      <th>City</th>\n      <th>Country</th>\n      <th>High Temp (F)</th>\n      <th>Cloudiness (%)</th>\n      <th>Humidity (%)</th>\n      <th>Wind (mph)</th>\n      <th>Latitude</th>\n      <th>Longitude</th>\n    </tr>\n  </thead>\n  <tbody>\n    <tr>\n      <th>10</th>\n      <td>Albany</td>\n      <td>US</td>\n      <td>68.00</td>\n      <td>62</td>\n      <td>19</td>\n      <td>8.88</td>\n      <td>42.6001</td>\n      <td>-73.9662</td>\n    </tr>\n    <tr>\n      <th>13</th>\n      <td>Bethel</td>\n      <td>US</td>\n      <td>68.00</td>\n      <td>1</td>\n      <td>26</td>\n      <td>8.05</td>\n      <td>41.3712</td>\n      <td>-73.4140</td>\n    </tr>\n    <tr>\n      <th>22</th>\n      <td>Tura</td>\n      <td>IN</td>\n      <td>78.15</td>\n      <td>65</td>\n      <td>29</td>\n      <td>4.32</td>\n      <td>25.5198</td>\n      <td>90.2201</td>\n    </tr>\n    <tr>\n      <th>43</th>\n      <td>Winnipeg</td>\n      <td>CA</td>\n      <td>42.01</td>\n      <td>17</td>\n      <td>24</td>\n      <td>5.75</td>\n      <td>49.8844</td>\n      <td>-97.1470</td>\n    </tr>\n    <tr>\n      <th>46</th>\n      <td>Jamestown</td>\n      <td>US</td>\n      <td>61.00</td>\n      <td>1</td>\n      <td>33</td>\n      <td>3.44</td>\n      <td>42.0970</td>\n      <td>-79.2353</td>\n    </tr>\n  </tbody>\n</table>\n</div>"
     },
     "metadata": {},
     "execution_count": 36
    }
   ],
   "source": [
    "# narrow down cities to fit weather conditions\n",
    "my_vacays = cities_df.loc[(cities_df['High Temp (F)'] <= 85) & (cities_df['Humidity (%)'] <= 40) & (cities_df['Wind (mph)'] <= 10)]\n",
    "my_vacays.head()"
   ]
  },
  {
   "cell_type": "markdown",
   "metadata": {},
   "source": [
    "### Hotel Map\n",
    "* Store into variable named `hotel_df`.\n",
    "* Add a \"Hotel Name\" column to the DataFrame.\n",
    "* Set parameters to search for hotels with 5000 meters.\n",
    "* Hit the Google Places API for each city's coordinates.\n",
    "* Store the first Hotel result into the DataFrame.\n",
    "* Plot markers on top of the heatmap."
   ]
  },
  {
   "cell_type": "code",
   "execution_count": null,
   "metadata": {},
   "outputs": [],
   "source": []
  },
  {
   "cell_type": "code",
   "execution_count": 4,
   "metadata": {},
   "outputs": [
    {
     "output_type": "error",
     "ename": "NameError",
     "evalue": "name 'hotel_df' is not defined",
     "traceback": [
      "\u001b[0;31m---------------------------------------------------------------------------\u001b[0m",
      "\u001b[0;31mNameError\u001b[0m                                 Traceback (most recent call last)",
      "\u001b[0;32m<ipython-input-4-464b2b3e63ad>\u001b[0m in \u001b[0;36m<module>\u001b[0;34m\u001b[0m\n\u001b[1;32m     11\u001b[0m \u001b[0;31m# Store the DataFrame Row\u001b[0m\u001b[0;34m\u001b[0m\u001b[0;34m\u001b[0m\u001b[0;34m\u001b[0m\u001b[0m\n\u001b[1;32m     12\u001b[0m \u001b[0;31m# NOTE: be sure to update with your DataFrame name\u001b[0m\u001b[0;34m\u001b[0m\u001b[0;34m\u001b[0m\u001b[0;34m\u001b[0m\u001b[0m\n\u001b[0;32m---> 13\u001b[0;31m \u001b[0mhotel_info\u001b[0m \u001b[0;34m=\u001b[0m \u001b[0;34m[\u001b[0m\u001b[0minfo_box_template\u001b[0m\u001b[0;34m.\u001b[0m\u001b[0mformat\u001b[0m\u001b[0;34m(\u001b[0m\u001b[0;34m**\u001b[0m\u001b[0mrow\u001b[0m\u001b[0;34m)\u001b[0m \u001b[0;32mfor\u001b[0m \u001b[0mindex\u001b[0m\u001b[0;34m,\u001b[0m \u001b[0mrow\u001b[0m \u001b[0;32min\u001b[0m \u001b[0mhotel_df\u001b[0m\u001b[0;34m.\u001b[0m\u001b[0miterrows\u001b[0m\u001b[0;34m(\u001b[0m\u001b[0;34m)\u001b[0m\u001b[0;34m]\u001b[0m\u001b[0;34m\u001b[0m\u001b[0;34m\u001b[0m\u001b[0m\n\u001b[0m\u001b[1;32m     14\u001b[0m \u001b[0mlocations\u001b[0m \u001b[0;34m=\u001b[0m \u001b[0mhotel_df\u001b[0m\u001b[0;34m[\u001b[0m\u001b[0;34m[\u001b[0m\u001b[0;34m\"Lat\"\u001b[0m\u001b[0;34m,\u001b[0m \u001b[0;34m\"Lng\"\u001b[0m\u001b[0;34m]\u001b[0m\u001b[0;34m]\u001b[0m\u001b[0;34m\u001b[0m\u001b[0;34m\u001b[0m\u001b[0m\n",
      "\u001b[0;31mNameError\u001b[0m: name 'hotel_df' is not defined"
     ]
    }
   ],
   "source": [
    "# NOTE: Do not change any of the code in this cell\n",
    "\n",
    "# Using the template add the hotel marks to the heatmap\n",
    "info_box_template = \"\"\"\n",
    "<dl>\n",
    "<dt>Name</dt><dd>{Hotel Name}</dd>\n",
    "<dt>City</dt><dd>{City}</dd>\n",
    "<dt>Country</dt><dd>{Country}</dd>\n",
    "</dl>\n",
    "\"\"\"\n",
    "# Store the DataFrame Row\n",
    "# NOTE: be sure to update with your DataFrame name\n",
    "hotel_info = [info_box_template.format(**row) for index, row in hotel_df.iterrows()]\n",
    "locations = hotel_df[[\"Lat\", \"Lng\"]]"
   ]
  },
  {
   "cell_type": "code",
   "execution_count": null,
   "metadata": {},
   "outputs": [],
   "source": [
    "# Add marker layer ontop of heat map\n",
    "\n",
    "\n",
    "# Display figure\n"
   ]
  },
  {
   "cell_type": "code",
   "execution_count": null,
   "metadata": {},
   "outputs": [],
   "source": []
  }
 ],
 "metadata": {
  "kernelspec": {
   "name": "python385jvsc74a57bd08db30581eada7fc949e663d6eb5b9fbb6fa0d3e0e859dcefca3786a9362448d9",
   "display_name": "Python 3.8.5 64-bit ('PythonData': conda)"
  },
  "language_info": {
   "codemirror_mode": {
    "name": "ipython",
    "version": 3
   },
   "file_extension": ".py",
   "mimetype": "text/x-python",
   "name": "python",
   "nbconvert_exporter": "python",
   "pygments_lexer": "ipython3",
   "version": "3.8.5"
  },
  "latex_envs": {
   "LaTeX_envs_menu_present": true,
   "autoclose": false,
   "autocomplete": true,
   "bibliofile": "biblio.bib",
   "cite_by": "apalike",
   "current_citInitial": 1,
   "eqLabelWithNumbers": true,
   "eqNumInitial": 1,
   "hotkeys": {
    "equation": "Ctrl-E",
    "itemize": "Ctrl-I"
   },
   "labels_anchors": false,
   "latex_user_defs": false,
   "report_style_numbering": false,
   "user_envs_cfg": false
  }
 },
 "nbformat": 4,
 "nbformat_minor": 4
}